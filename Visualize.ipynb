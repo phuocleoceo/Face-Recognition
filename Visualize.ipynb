{
 "cells": [
  {
   "cell_type": "code",
   "execution_count": 1,
   "metadata": {},
   "outputs": [],
   "source": [
    "from os.path import join, curdir\n",
    "import matplotlib.pyplot as plt\n",
    "import seaborn as sns\n",
    "import numpy as np\n",
    "import json\n",
    "import cv2"
   ]
  },
  {
   "cell_type": "markdown",
   "metadata": {},
   "source": [
    "## Vector đặc trưng gương mặt"
   ]
  },
  {
   "cell_type": "code",
   "execution_count": 2,
   "metadata": {},
   "outputs": [],
   "source": [
    "db_path = join(curdir,\"Database\", \"Database.json\")\n",
    "with open(db_path, \"r\") as db:\n",
    "    database = json.load(db)"
   ]
  },
  {
   "cell_type": "code",
   "execution_count": 3,
   "metadata": {},
   "outputs": [],
   "source": [
    "# i=1\n",
    "# for label, embedding in database.items():\n",
    "#     plt.figure(i)\n",
    "#     for ebd in embedding:\n",
    "#         plt.plot(ebd)\n",
    "#     i+=1\n"
   ]
  },
  {
   "cell_type": "markdown",
   "metadata": {},
   "source": [
    "## Cân bằng sáng (Histogram Equalization)"
   ]
  },
  {
   "cell_type": "code",
   "execution_count": 4,
   "metadata": {},
   "outputs": [],
   "source": [
    "test_img = cv2.imread(\"./Dataset/People/Phuoc/IMG_3263.JPG\")\n",
    "test_img = cv2.resize(test_img, (450, 600))\n",
    "test_img=cv2.cvtColor(test_img, cv2.COLOR_BGR2GRAY)\n",
    "\n",
    "# Creating a Histograms Equalization\n",
    "equ = cv2.equalizeHist(test_img)\n",
    "\n",
    "# Stacking images side-by-side\n",
    "res = np.hstack((test_img, equ))\n",
    "\n",
    "# Show image input vs output\n",
    "cv2.imshow(\"\", res)\n",
    "cv2.waitKey(0)\n",
    "cv2.destroyAllWindows()"
   ]
  }
 ],
 "metadata": {
  "interpreter": {
   "hash": "aee8b7b246df8f9039afb4144a1f6fd8d2ca17a180786b69acc140d282b71a49"
  },
  "kernelspec": {
   "display_name": "Python 3.9.7 64-bit",
   "language": "python",
   "name": "python3"
  },
  "language_info": {
   "codemirror_mode": {
    "name": "ipython",
    "version": 3
   },
   "file_extension": ".py",
   "mimetype": "text/x-python",
   "name": "python",
   "nbconvert_exporter": "python",
   "pygments_lexer": "ipython3",
   "version": "3.9.7"
  },
  "orig_nbformat": 4
 },
 "nbformat": 4,
 "nbformat_minor": 2
}
