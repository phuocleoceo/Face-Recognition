{
 "cells": [
  {
   "cell_type": "code",
   "execution_count": 26,
   "metadata": {},
   "outputs": [],
   "source": [
    "from os.path import join, curdir\n",
    "import matplotlib.pyplot as plt\n",
    "import seaborn as sns\n",
    "import numpy as np\n",
    "import json\n",
    "import cv2"
   ]
  },
  {
   "cell_type": "markdown",
   "metadata": {},
   "source": [
    "### Vector đặc trưng gương mặt"
   ]
  },
  {
   "cell_type": "code",
   "execution_count": 27,
   "metadata": {},
   "outputs": [],
   "source": [
    "db_path = join(curdir,\"Database\", \"Database.json\")\n",
    "with open(db_path, \"r\") as db:\n",
    "    database = json.load(db)"
   ]
  },
  {
   "cell_type": "code",
   "execution_count": 28,
   "metadata": {},
   "outputs": [],
   "source": [
    "# i=1\n",
    "# for label, embedding in database.items():\n",
    "#     plt.figure(i)\n",
    "#     for ebd in embedding:\n",
    "#         plt.plot(ebd)\n",
    "#     i+=1\n"
   ]
  },
  {
   "cell_type": "markdown",
   "metadata": {},
   "source": [
    "### Cân bằng sáng (Histogram Equalization)"
   ]
  },
  {
   "cell_type": "code",
   "execution_count": null,
   "metadata": {},
   "outputs": [],
   "source": [
    "# Ngan, Phuoc, Thinh, Thanh\n",
    "img_path = \"../Sub-Module/FaceDetect/fd/Ngan_IMG_3246.JPG crop.png\"\n",
    "# img_path = \"../Sub-Module/FaceDetect/fd/Phuoc_IMG_3263.JPG crop.png\"\n",
    "# img_path = \"../Sub-Module/FaceDetect/fd/Thinh_IMG_3285.JPG crop.png\"\n",
    "# img_path = \"../Sub-Module/FaceDetect/fd/Thanh_IMG_3280.JPG crop.png\""
   ]
  },
  {
   "cell_type": "code",
   "execution_count": 29,
   "metadata": {},
   "outputs": [],
   "source": [
    "test_img = cv2.imread(img_path)\n",
    "scale_percent = 40  # percent of original size\n",
    "width = int(test_img.shape[1] * scale_percent / 100)\n",
    "height = int(test_img.shape[0] * scale_percent / 100)\n",
    "test_img = cv2.resize(test_img, (width, height))\n",
    "\n",
    "\n",
    "yuv_img = cv2.cvtColor(test_img, cv2.COLOR_BGR2YUV)\n",
    "yuv_img[:, :, 0] = cv2.equalizeHist(yuv_img[:, :, 0])\n",
    "equ = cv2.cvtColor(yuv_img, cv2.COLOR_YUV2BGR)\n",
    "\n",
    "# Stacking images side-by-side\n",
    "res = np.hstack((test_img, equ))\n",
    "\n",
    "# Show image input vs output\n",
    "cv2.imshow(\"\", res)\n",
    "cv2.waitKey(0)\n",
    "cv2.destroyAllWindows()"
   ]
  },
  {
   "cell_type": "markdown",
   "metadata": {},
   "source": [
    "### Cân bằng sáng thích ứng (Adaptive Histogram Equalization)"
   ]
  },
  {
   "cell_type": "code",
   "execution_count": 30,
   "metadata": {},
   "outputs": [],
   "source": [
    "test_img = cv2.imread(img_path)\n",
    "scale_percent = 40  # percent of original size\n",
    "width = int(test_img.shape[1] * scale_percent / 100)\n",
    "height = int(test_img.shape[0] * scale_percent / 100)\n",
    "test_img = cv2.resize(test_img, (width, height))\n",
    "\n",
    "clahe = cv2.createCLAHE(clipLimit=1.5, tileGridSize=(8, 8))\n",
    "yuv_img = cv2.cvtColor(test_img, cv2.COLOR_BGR2YUV)\n",
    "yuv_img[:, :, 0] = clahe.apply(yuv_img[:, :, 0])\n",
    "equ = cv2.cvtColor(yuv_img, cv2.COLOR_YUV2BGR)\n",
    "\n",
    "# Stacking images side-by-side\n",
    "res = np.hstack((test_img, equ))\n",
    "\n",
    "# Show image input vs output\n",
    "cv2.imshow(\"\", res)\n",
    "cv2.waitKey(0)\n",
    "cv2.destroyAllWindows()"
   ]
  }
 ],
 "metadata": {
  "interpreter": {
   "hash": "aee8b7b246df8f9039afb4144a1f6fd8d2ca17a180786b69acc140d282b71a49"
  },
  "kernelspec": {
   "display_name": "Python 3.9.7 64-bit",
   "language": "python",
   "name": "python3"
  },
  "language_info": {
   "codemirror_mode": {
    "name": "ipython",
    "version": 3
   },
   "file_extension": ".py",
   "mimetype": "text/x-python",
   "name": "python",
   "nbconvert_exporter": "python",
   "pygments_lexer": "ipython3",
   "version": "3.9.7"
  },
  "orig_nbformat": 4
 },
 "nbformat": 4,
 "nbformat_minor": 2
}
